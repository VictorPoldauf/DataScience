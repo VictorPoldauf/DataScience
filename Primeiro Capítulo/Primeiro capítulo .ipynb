{
 "cells": [
  {
   "cell_type": "markdown",
   "metadata": {},
   "source": [
    "# Capítulo 1\n",
    "### Comandos básicos e matemáticos\n",
    "O primeiro comando é o comentário , tem função de explicação  alem de ser uma boa pratica  para facilitar o entendimento do código afim de terceiros os quais não realizarão parte da confecção do código melhor interpretar a sua função."
   ]
  },
  {
   "cell_type": "code",
   "execution_count": 1,
   "metadata": {},
   "outputs": [],
   "source": [
    "#A estrutura de um comentário inicia  com uma hashtag ou popularmente conhecida como \"jogo da velha\" ,logo apos um texto\n",
    "#Para executar a compilação da célula apertar ctrl+Enter, mas não se preocupe o comenta tio não influencia no código"
   ]
  },
  {
   "cell_type": "markdown",
   "metadata": {},
   "source": [
    "### Comando da soma \n",
    "O comando da soma é dado pelo açúcar sintático \" + \" entre dois argumentos  a qual responde o resultado da operação"
   ]
  },
  {
   "cell_type": "code",
   "execution_count": 8,
   "metadata": {},
   "outputs": [
    {
     "data": {
      "text/plain": [
       "4"
      ]
     },
     "execution_count": 8,
     "metadata": {},
     "output_type": "execute_result"
    }
   ],
   "source": [
    "1 + 3"
   ]
  },
  {
   "cell_type": "markdown",
   "metadata": {},
   "source": [
    "Repare que a célula criou uma nova linha chamada de \"Out\" que traduzida para o português \"saída\" ou seja toda logica matemática é interpretada e realizada e por fim o resultado é dado na nova linha.\n",
    "\n",
    "### Comando de subtração\n",
    "O comando da subtração é dado pelo açúcar sintático \" - \" entre dois argumentos a qual responde o resultado da operação"
   ]
  },
  {
   "cell_type": "code",
   "execution_count": 7,
   "metadata": {},
   "outputs": [
    {
     "data": {
      "text/plain": [
       "2"
      ]
     },
     "execution_count": 7,
     "metadata": {},
     "output_type": "execute_result"
    }
   ],
   "source": [
    "5 - 3"
   ]
  },
  {
   "cell_type": "markdown",
   "metadata": {},
   "source": [
    "### Comando de multiplicação\n",
    "O comando da multiplicação é dado pelo açúcar sintático \" * \" entre dois argumentos a qual responde o resultado da operação"
   ]
  },
  {
   "cell_type": "code",
   "execution_count": 6,
   "metadata": {},
   "outputs": [
    {
     "data": {
      "text/plain": [
       "16"
      ]
     },
     "execution_count": 6,
     "metadata": {},
     "output_type": "execute_result"
    }
   ],
   "source": [
    "2 * 8"
   ]
  },
  {
   "cell_type": "markdown",
   "metadata": {},
   "source": [
    "### Comando de divisão\n",
    "O comando da divisão é dado pelo açúcar sintático \" / \" entre dois argumentos a qual responde o resultado da operação"
   ]
  },
  {
   "cell_type": "code",
   "execution_count": 9,
   "metadata": {},
   "outputs": [
    {
     "data": {
      "text/plain": [
       "5.0"
      ]
     },
     "execution_count": 9,
     "metadata": {},
     "output_type": "execute_result"
    }
   ],
   "source": [
    "15 / 3"
   ]
  },
  {
   "cell_type": "markdown",
   "metadata": {},
   "source": [
    "<ul><li>Note que o resultado da divisão resulta em um numero, mas diferente das operações anteriores ele vem acompanhado de uma virgula, isso pode ser explicado pelo tipo de \"variável\" que sera o assunto tratado no próximo capitulo.li></ul>\n",
    "\n",
    "### Comando de exponenciação e radiciação\n",
    "O comando da exponenciação é dado pelo açúcar sintático \" ** \" entre dois argumentos a qual responde o resultado da operação"
   ]
  },
  {
   "cell_type": "code",
   "execution_count": 10,
   "metadata": {},
   "outputs": [
    {
     "data": {
      "text/plain": [
       "32"
      ]
     },
     "execution_count": 10,
     "metadata": {},
     "output_type": "execute_result"
    }
   ],
   "source": [
    "2 ** 5"
   ]
  },
  {
   "cell_type": "markdown",
   "metadata": {},
   "source": [
    "É importante lembrar que a radiciação pode ser obtida conforme a sintaxe matemática de frações localizadas no expoente lembrando de seguir o uso de parentes para organizar a expressão como por exemplo:\n"
   ]
  },
  {
   "cell_type": "code",
   "execution_count": 14,
   "metadata": {},
   "outputs": [
    {
     "data": {
      "text/plain": [
       "3.0"
      ]
     },
     "execution_count": 14,
     "metadata": {},
     "output_type": "execute_result"
    }
   ],
   "source": [
    "9 ** (1/2)"
   ]
  },
  {
   "cell_type": "markdown",
   "metadata": {},
   "source": [
    "<ul><li>Veja que como existe a divisão no codigo acima acontece novamente a converção da variavel que sera explicada no proximo capitulo</li></ul>\n",
    " Ou ainda podemos diretamente colocar o resultado da fração"
   ]
  },
  {
   "cell_type": "code",
   "execution_count": 12,
   "metadata": {},
   "outputs": [
    {
     "data": {
      "text/plain": [
       "3.0"
      ]
     },
     "execution_count": 12,
     "metadata": {},
     "output_type": "execute_result"
    }
   ],
   "source": [
    "9 ** 0.5"
   ]
  },
  {
   "cell_type": "markdown",
   "metadata": {},
   "source": [
    "### Comando para obter a parte inteira de uma divisão\n",
    "Digamos que seja necessario obter apenas o resultado inteiro que foi dividido  o açúcar sintático é \" // \" entre dois argumentos , vejamos :"
   ]
  },
  {
   "cell_type": "code",
   "execution_count": 20,
   "metadata": {},
   "outputs": [
    {
     "data": {
      "text/plain": [
       "2"
      ]
     },
     "execution_count": 20,
     "metadata": {},
     "output_type": "execute_result"
    }
   ],
   "source": [
    "10 // 4"
   ]
  },
  {
   "cell_type": "markdown",
   "metadata": {},
   "source": [
    "### Comando para obter o modulo \n",
    "Digamos que seja necessario obter apenas o resto da divisão o  o açúcar sintático é \" % \" entre dois argumentos , vejamos :"
   ]
  },
  {
   "cell_type": "code",
   "execution_count": 22,
   "metadata": {},
   "outputs": [
    {
     "data": {
      "text/plain": [
       "2"
      ]
     },
     "execution_count": 22,
     "metadata": {},
     "output_type": "execute_result"
    }
   ],
   "source": [
    "10 % 4"
   ]
  }
 ],
 "metadata": {
  "kernelspec": {
   "display_name": "Python 3",
   "language": "python",
   "name": "python3"
  },
  "language_info": {
   "codemirror_mode": {
    "name": "ipython",
    "version": 3
   },
   "file_extension": ".py",
   "mimetype": "text/x-python",
   "name": "python",
   "nbconvert_exporter": "python",
   "pygments_lexer": "ipython3",
   "version": "3.7.3"
  }
 },
 "nbformat": 4,
 "nbformat_minor": 2
}
