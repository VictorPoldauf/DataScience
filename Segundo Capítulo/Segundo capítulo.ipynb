{
 "cells": [
  {
   "cell_type": "markdown",
   "metadata": {},
   "source": [
    "# Capítulo 2\n",
    "### Compreendendo variáveis e seus tipos.\n",
    "Observamos que todos os cálculos realizados no capitulo anterior  foram exibidos em forma de output, e acabaram apenas existindo na sua célula de execução, mas se por algum motivo quisermos armazenar esse resultado para o uso posterior?\n",
    "\n",
    "   Para que isso aconteça existe no python assim como em outras linguagens de programação o conceito de \"variável\" nada mais é do que um elemento que atribuímos um valor e alteramos esse mesmo valor conforma nossa necessidade, dessa característica vem seu nome."
   ]
  },
  {
   "cell_type": "code",
   "execution_count": 20,
   "metadata": {},
   "outputs": [],
   "source": [
    "# Para atribuir um valor a variável apenas selecionamos o carácter desejado \n",
    "# Digitamos o sinal de igual \" = \"\n",
    "# E o  valor desejado a ser  atribuído \n",
    "a = 1"
   ]
  },
  {
   "cell_type": "markdown",
   "metadata": {},
   "source": [
    "    Como podemos observar o resultado de uma atribuição não é exibido no output dessa IDE , mas para que seja exibido se faz necessário apenas digitá-la novamente antes do final da célula, desse modo:"
   ]
  },
  {
   "cell_type": "code",
   "execution_count": 21,
   "metadata": {},
   "outputs": [
    {
     "data": {
      "text/plain": [
       "2"
      ]
     },
     "execution_count": 21,
     "metadata": {},
     "output_type": "execute_result"
    }
   ],
   "source": [
    "b = 2\n",
    "b"
   ]
  },
  {
   "cell_type": "markdown",
   "metadata": {},
   "source": [
    "    Logo podemos ver seu output preenchido com o valor da variável, mas provando para os leitores que a variável não      existe apenas na célula em quem foi criada vamos chamar a variável \" a \" criada a duas células acima e ver o comportamento."
   ]
  },
  {
   "cell_type": "code",
   "execution_count": 22,
   "metadata": {},
   "outputs": [
    {
     "data": {
      "text/plain": [
       "1"
      ]
     },
     "execution_count": 22,
     "metadata": {},
     "output_type": "execute_result"
    }
   ],
   "source": [
    "a"
   ]
  },
  {
   "cell_type": "markdown",
   "metadata": {},
   "source": [
    "   A variável também pode ser declarada a partir de um resultado matemático , ou ainda mais a ser igualada a outra variável"
   ]
  },
  {
   "cell_type": "code",
   "execution_count": 23,
   "metadata": {},
   "outputs": [
    {
     "data": {
      "text/plain": [
       "9"
      ]
     },
     "execution_count": 23,
     "metadata": {},
     "output_type": "execute_result"
    }
   ],
   "source": [
    "# Variavel declarada  a partir de expressão matemática\n",
    "c = 4 + 5\n",
    "c"
   ]
  },
  {
   "cell_type": "code",
   "execution_count": 24,
   "metadata": {},
   "outputs": [
    {
     "data": {
      "text/plain": [
       "-3"
      ]
     },
     "execution_count": 24,
     "metadata": {},
     "output_type": "execute_result"
    }
   ],
   "source": [
    "# Variavel declarada  a partir de expressão matemática envolvendo outra variável\n",
    "d = a - 4\n",
    "d"
   ]
  },
  {
   "cell_type": "code",
   "execution_count": 25,
   "metadata": {},
   "outputs": [
    {
     "data": {
      "text/plain": [
       "1"
      ]
     },
     "execution_count": 25,
     "metadata": {},
     "output_type": "execute_result"
    }
   ],
   "source": [
    "# Variavel recebendo o valor integro de outra variável\n",
    "e = a\n",
    "e"
   ]
  },
  {
   "cell_type": "markdown",
   "metadata": {},
   "source": [
    "## Alterando valores de uma variável\n",
    "Agora vamos realizar a característica principal de uma variável que nada mais é que variar seu próprio valor vamos acompanhar logo abaixo:"
   ]
  },
  {
   "cell_type": "code",
   "execution_count": 38,
   "metadata": {},
   "outputs": [
    {
     "data": {
      "text/plain": [
       "2"
      ]
     },
     "execution_count": 38,
     "metadata": {},
     "output_type": "execute_result"
    }
   ],
   "source": [
    "k = 1 # Nesse exato momento valor k  vale 1\n",
    "k = 2 # Nesse exato momento valor k  vale 2\n",
    "k"
   ]
  },
  {
   "cell_type": "markdown",
   "metadata": {},
   "source": [
    "<ul><li>Assim como em muitas outras linguagens de programação o pythom é estruturando e o código é executado linha a  linha seguindo sua sequencia logica de construção ou seja o ultimo valor atribuído sera o valor final do output nesse caso.</li></ul>"
   ]
  },
  {
   "cell_type": "code",
   "execution_count": 39,
   "metadata": {},
   "outputs": [
    {
     "data": {
      "text/plain": [
       "8"
      ]
     },
     "execution_count": 39,
     "metadata": {},
     "output_type": "execute_result"
    }
   ],
   "source": [
    "# Vamos ultilizar a mesma variavel k lembrando que seu valor é 2\n",
    "k = k + 6 # Neste caso iremos atribuir um novo valor a variável utilizando o valor passado dela ou seja o k novo é 2+6=8\n",
    "k\n",
    "\n"
   ]
  }
 ],
 "metadata": {
  "kernelspec": {
   "display_name": "Python 3",
   "language": "python",
   "name": "python3"
  },
  "language_info": {
   "codemirror_mode": {
    "name": "ipython",
    "version": 3
   },
   "file_extension": ".py",
   "mimetype": "text/x-python",
   "name": "python",
   "nbconvert_exporter": "python",
   "pygments_lexer": "ipython3",
   "version": "3.7.3"
  }
 },
 "nbformat": 4,
 "nbformat_minor": 2
}
