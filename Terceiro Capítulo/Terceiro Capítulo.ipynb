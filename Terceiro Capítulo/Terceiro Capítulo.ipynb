{
 "cells": [
  {
   "cell_type": "markdown",
   "metadata": {},
   "source": [
    "# Terceiro Capítulo\n",
    "## Tipos de variáveis\n",
    "<p>De acordo com o capitulo passado foi exibido o método  de atribuição de valor a uma variável e alteração do mesmo, agora vamos descobrir quais são os tipos de variáveis.</p>\n",
    "<p>Para identificar o tipo da variável existe um comando chamado Type, sua sintaxe é:</p> \n",
    "\" type(nomeDaVariavel) \""
   ]
  },
  {
   "cell_type": "code",
   "execution_count": 35,
   "metadata": {},
   "outputs": [
    {
     "data": {
      "text/plain": [
       "4"
      ]
     },
     "execution_count": 35,
     "metadata": {},
     "output_type": "execute_result"
    }
   ],
   "source": [
    "a = 4 #Quando atribuímos um valor numérico inteiro a uma variável seu tipo e classificado como \" int \" que vem da palavra inteiro\n",
    "a"
   ]
  },
  {
   "cell_type": "code",
   "execution_count": 36,
   "metadata": {},
   "outputs": [
    {
     "data": {
      "text/plain": [
       "3.6"
      ]
     },
     "execution_count": 36,
     "metadata": {},
     "output_type": "execute_result"
    }
   ],
   "source": [
    "numeroNãoInteiro = 3.6 #Quando atribuímos um valor numérico não inteiro a uma variável seu tipo e classificado como \" float \" \n",
    "numeroNãoInteiro #Sim uma variável pode ser escrita como um texto"
   ]
  },
  {
   "cell_type": "markdown",
   "metadata": {},
   "source": [
    "<ul><li>Recordando do primeiro capítulo, notávamos que quando existia uma operação com divisões a nossa output aparecia com um zero depois da virgula mesmo não tendo algum algarismo significativo apos a virgula isso acontece porque o python afim de facilitar e poupa-nos de conversores já realiza automaticamente a conversão</li></ul>"
   ]
  },
  {
   "cell_type": "code",
   "execution_count": 30,
   "metadata": {},
   "outputs": [
    {
     "data": {
      "text/plain": [
       "'Data Science'"
      ]
     },
     "execution_count": 30,
     "metadata": {},
     "output_type": "execute_result"
    }
   ],
   "source": [
    "c = \"Data Science\" #Podemos adicionar o valor de um texto a uma variável simplesmente igualando a variável a um texto entre aspas\n",
    "c #O nome que se da a uma variável com o valor de texto é \" String \""
   ]
  },
  {
   "cell_type": "markdown",
   "metadata": {},
   "source": [
    "### Assim como na matemática existem elementos que armazenam mais de um valor.\n",
    "\n",
    "<p>Esses elementos no python são  chamados de  \" vetores \" e \" matrizes \" assim como na matemática ambos carregam a capacidade de armazenar infinitos valores, se seguida a sua sintaxi devidamente .</p>\n",
    "<p>Além dessas duas formas de armazenamento de multi valores temos também os dicionários."
   ]
  },
  {
   "cell_type": "code",
   "execution_count": 37,
   "metadata": {},
   "outputs": [
    {
     "data": {
      "text/plain": [
       "[5, 9, 'IFSP', 4.9, 'O futuro são os dados']"
      ]
     },
     "execution_count": 37,
     "metadata": {},
     "output_type": "execute_result"
    }
   ],
   "source": [
    "# Listas ou vetores são os nomes dados a variavel a seguir.\n",
    "v = [5, 9 ,\"IFSP\",4.9,\"O futuro são os dados\" ] #Como podemos ver o vetor pode conter todo tipo de variável dentro de si.\n",
    "v"
   ]
  },
  {
   "cell_type": "code",
   "execution_count": 38,
   "metadata": {},
   "outputs": [
    {
     "data": {
      "text/plain": [
       "([1, 2, 3], [4, 5, 6], [7, 8, 9])"
      ]
     },
     "execution_count": 38,
     "metadata": {},
     "output_type": "execute_result"
    }
   ],
   "source": [
    "# Matrizes que nada mais são que um aglomerado de vetores popularmente chamado de tuple\n",
    "matriz = [1,2,3],[4,5,6],[7,8,9]\n",
    "matriz"
   ]
  },
  {
   "cell_type": "markdown",
   "metadata": {},
   "source": [
    "<ul><li>As tuplas tem uma singularidade que as definem , apos sua criação elas não podem sofrer alteração nos seus valores</li></ul>"
   ]
  },
  {
   "cell_type": "code",
   "execution_count": 41,
   "metadata": {},
   "outputs": [
    {
     "data": {
      "text/plain": [
       "{'Numero de prédios': 6,\n",
       " 'Endereço': 'Av. Salgado Filho, 3501 - Centro, Guarulhos - SP, 07115-000',\n",
       " 'Licenciatura': 'Matemática',\n",
       " 'Tecnólogo': ['Automação industrial',\n",
       "  'Analise e desenvolvimento de sistemas'],\n",
       " 'Bacharel': 'Engenharia de controle e automação'}"
      ]
     },
     "execution_count": 41,
     "metadata": {},
     "output_type": "execute_result"
    }
   ],
   "source": [
    "# Dicionários ou popularmente conhecidos em outras linguagens \" objetos \"\n",
    "campusIFSP ={'Numero de prédios': 6 , 'Endereço' : 'Av. Salgado Filho, 3501 - Centro, Guarulhos - SP, 07115-000' , 'Licenciatura' : 'Matemática' , 'Tecnólogo' : ['Automação industrial','Analise e desenvolvimento de sistemas'] , 'Bacharel' : 'Engenharia de controle e automação'}\n",
    "campusIFSP"
   ]
  },
  {
   "cell_type": "code",
   "execution_count": 40,
   "metadata": {},
   "outputs": [
    {
     "data": {
      "text/plain": [
       "['Automação industrial', 'Analise e desenvolvimento de sistemas']"
      ]
     },
     "execution_count": 40,
     "metadata": {},
     "output_type": "execute_result"
    }
   ],
   "source": [
    "# A vantagem do dicionario é que eu apenas posso acessar a informação desejada dele de maneira explicita\n",
    "campusIFSP['Tecnólogo']"
   ]
  }
 ],
 "metadata": {
  "kernelspec": {
   "display_name": "Python 3",
   "language": "python",
   "name": "python3"
  },
  "language_info": {
   "codemirror_mode": {
    "name": "ipython",
    "version": 3
   },
   "file_extension": ".py",
   "mimetype": "text/x-python",
   "name": "python",
   "nbconvert_exporter": "python",
   "pygments_lexer": "ipython3",
   "version": "3.7.3"
  }
 },
 "nbformat": 4,
 "nbformat_minor": 2
}
